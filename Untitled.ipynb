{
 "cells": [
  {
   "cell_type": "markdown",
   "id": "brazilian-charge",
   "metadata": {},
   "source": [
    "# Recommendation System Demo"
   ]
  },
  {
   "cell_type": "markdown",
   "id": "juvenile-performance",
   "metadata": {},
   "source": [
    "## Personalized Recommendation System\n",
    "Based on users' interest and purchasing behavior, the algorithm will suggest information and product to users."
   ]
  },
  {
   "cell_type": "markdown",
   "id": "smaller-relations",
   "metadata": {},
   "source": [
    "Good system creterion: PM, accuracy, coverage, versatility, "
   ]
  }
 ],
 "metadata": {
  "kernelspec": {
   "display_name": "Python 3",
   "language": "python",
   "name": "python3"
  },
  "language_info": {
   "codemirror_mode": {
    "name": "ipython",
    "version": 3
   },
   "file_extension": ".py",
   "mimetype": "text/x-python",
   "name": "python",
   "nbconvert_exporter": "python",
   "pygments_lexer": "ipython3",
   "version": "3.7.10"
  }
 },
 "nbformat": 4,
 "nbformat_minor": 5
}
